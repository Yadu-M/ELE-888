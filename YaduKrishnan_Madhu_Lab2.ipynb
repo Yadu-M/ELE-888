{
 "cells": [
  {
   "cell_type": "markdown",
   "metadata": {},
   "source": [
    "# Lab 2 - Gradient Descent For Logistic Regression\n",
    "Name: Yadu Krishnan Madhu\n",
    "Section: 10\n",
    "Student Number: 500975010"
   ]
  },
  {
   "cell_type": "code",
   "execution_count": 1,
   "metadata": {},
   "outputs": [
    {
     "name": "stderr",
     "output_type": "stream",
     "text": [
      "C:\\Users\\fapta\\AppData\\Local\\Temp\\ipykernel_23944\\2647430481.py:3: DeprecationWarning: \n",
      "Pyarrow will become a required dependency of pandas in the next major release of pandas (pandas 3.0),\n",
      "(to allow more performant data types, such as the Arrow string type, and better interoperability with other libraries)\n",
      "but was not found to be installed on your system.\n",
      "If this would cause problems for you,\n",
      "please provide us feedback at https://github.com/pandas-dev/pandas/issues/54466\n",
      "        \n",
      "  import pandas as pd\n"
     ]
    }
   ],
   "source": [
    "# Importing libraries\n",
    "import numpy as np\n",
    "import pandas as pd\n",
    "import math\n",
    "\n",
    "import matplotlib.pyplot as plt\n",
    "%matplotlib inline\n",
    "\n",
    "from sklearn.linear_model import LinearRegression"
   ]
  },
  {
   "cell_type": "code",
   "execution_count": 2,
   "metadata": {},
   "outputs": [],
   "source": [
    "# Importing Dataset\n",
    "\n",
    "data = pd.read_csv('https://raw.githubusercontent.com/tofighi/MachineLearning/master/datasets/heart.csv')\n"
   ]
  },
  {
   "cell_type": "markdown",
   "metadata": {},
   "source": [
    "## EDA"
   ]
  },
  {
   "cell_type": "markdown",
   "metadata": {},
   "source": [
    "How much is the percentage of each class 0 and 1?"
   ]
  },
  {
   "cell_type": "code",
   "execution_count": 3,
   "metadata": {},
   "outputs": [
    {
     "name": "stdout",
     "output_type": "stream",
     "text": [
      "Percentage for class 0 is : 65\n",
      "Percentage for class 1 is : 35\n"
     ]
    }
   ],
   "source": [
    "class_0 = 0\n",
    "class_1 = 0\n",
    "for status in data['chd']:\n",
    "    if (status):\n",
    "        class_1 += 1\n",
    "    else:\n",
    "        class_0 += 1\n",
    "        \n",
    "# print(class_1)\n",
    "print(f'Percentage for class 0 is : {round((class_0 * 100) / len(data[\"chd\"]))}')\n",
    "print(f'Percentage for class 1 is : {round((class_1 * 100) / len(data[\"chd\"]))}')"
   ]
  },
  {
   "cell_type": "markdown",
   "metadata": {},
   "source": [
    "How many missing values do we have ?"
   ]
  },
  {
   "cell_type": "code",
   "execution_count": 12,
   "metadata": {},
   "outputs": [
    {
     "name": "stdout",
     "output_type": "stream",
     "text": [
      "462\n",
      "463\n"
     ]
    }
   ],
   "source": [
    "i = 1\n",
    "j = 0\n",
    "print(len(data))\n",
    "print(data['row.names'][len(data) - 1])\n",
    "# print(data['row.names'][260])\n",
    "# print(data['row.names'][261])\n",
    "# print(data['row.names'][262])\n",
    "# print(data['row.names'][263])\n",
    "\n",
    "# for num in data['row.names']:\n",
    "#     if (i == num):\n",
    "#         i += 1\n",
    "#     else:\n",
    "#         j += 1\n",
    "#         i == (num + 1)\n",
    "#         break\n",
    "        \n",
    "# print(j)\n",
    "    "
   ]
  }
 ],
 "metadata": {
  "kernelspec": {
   "display_name": "env",
   "language": "python",
   "name": "python3"
  },
  "language_info": {
   "codemirror_mode": {
    "name": "ipython",
    "version": 3
   },
   "file_extension": ".py",
   "mimetype": "text/x-python",
   "name": "python",
   "nbconvert_exporter": "python",
   "pygments_lexer": "ipython3",
   "version": "3.10.11"
  }
 },
 "nbformat": 4,
 "nbformat_minor": 2
}
